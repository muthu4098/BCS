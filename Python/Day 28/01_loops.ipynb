{
 "cells": [
  {
   "cell_type": "code",
   "execution_count": 1,
   "id": "ea050e30",
   "metadata": {},
   "outputs": [
    {
     "name": "stdout",
     "output_type": "stream",
     "text": [
      "Vote for Muthu🎊\n",
      "Vote for Muthu🎊\n",
      "Vote for Muthu🎊\n"
     ]
    }
   ],
   "source": [
    "i = 1\n",
    "\n",
    "# When condition False it will exit loop\n",
    "while i <= 3:\n",
    "    print(\"Vote for Muthu🎊\")\n",
    "    i = i + 1\n",
    "    "
   ]
  },
  {
   "cell_type": "code",
   "execution_count": 2,
   "id": "0b7b4b81",
   "metadata": {},
   "outputs": [],
   "source": [
    "i = 1\n",
    "\n",
    "# When condition False or break (statement) it will exit loop\n",
    "while i <= 3:\n",
    "    break\n",
    "    print(\"Vote for Muthu🎊\")\n",
    "    i = i + 1"
   ]
  },
  {
   "cell_type": "code",
   "execution_count": 3,
   "id": "f509dc0b",
   "metadata": {},
   "outputs": [
    {
     "name": "stdout",
     "output_type": "stream",
     "text": [
      "Vote for Muthu🎊\n",
      "Vote for Muthu🎊\n"
     ]
    }
   ],
   "source": [
    "i = 1\n",
    "\n",
    "# When condition False or break (statement) it will exit loop\n",
    "while i <= 3:\n",
    "    print(\"Vote for Muthu🎊\")\n",
    "    if i == 2:\n",
    "        break\n",
    "    i = i + 1"
   ]
  },
  {
   "cell_type": "code",
   "execution_count": null,
   "id": "10c686c7",
   "metadata": {},
   "outputs": [
    {
     "name": "stdout",
     "output_type": "stream",
     "text": [
      "Vote for Muthu🎊\n",
      "Vote for Muthu🎊\n",
      "Vote for Muthu🎊\n"
     ]
    }
   ],
   "source": [
    "# range(start, end, step)\n",
    "# start - 0 (defaults)\n",
    "# end - does not get included\n",
    "for i in range(1,4):\n",
    "    print(\"Vote for Muthu🎊\")"
   ]
  },
  {
   "cell_type": "code",
   "execution_count": 5,
   "id": "9f5ba8f9",
   "metadata": {},
   "outputs": [
    {
     "name": "stdout",
     "output_type": "stream",
     "text": [
      "1\n",
      "3\n",
      "5\n",
      "7\n",
      "9\n"
     ]
    }
   ],
   "source": [
    "# Print only odd numbers\n",
    "\n",
    "for i in range(1,10,2):\n",
    "    print(i)"
   ]
  },
  {
   "cell_type": "code",
   "execution_count": 6,
   "id": "657f8cdf",
   "metadata": {},
   "outputs": [
    {
     "name": "stdout",
     "output_type": "stream",
     "text": [
      "2\n",
      "4\n",
      "6\n",
      "8\n",
      "10\n"
     ]
    }
   ],
   "source": [
    "for i in range(2,11,2):\n",
    "    print(i)"
   ]
  },
  {
   "cell_type": "code",
   "execution_count": null,
   "id": "9e2e4c73",
   "metadata": {},
   "outputs": [
    {
     "name": "stdout",
     "output_type": "stream",
     "text": [
      "0\n",
      "1\n",
      "2\n",
      "3\n",
      "4\n"
     ]
    }
   ],
   "source": [
    "\n",
    "for i in range(5):\n",
    "    print(i)"
   ]
  }
 ],
 "metadata": {
  "kernelspec": {
   "display_name": ".venv",
   "language": "python",
   "name": "python3"
  },
  "language_info": {
   "codemirror_mode": {
    "name": "ipython",
    "version": 3
   },
   "file_extension": ".py",
   "mimetype": "text/x-python",
   "name": "python",
   "nbconvert_exporter": "python",
   "pygments_lexer": "ipython3",
   "version": "3.13.4"
  }
 },
 "nbformat": 4,
 "nbformat_minor": 5
}
