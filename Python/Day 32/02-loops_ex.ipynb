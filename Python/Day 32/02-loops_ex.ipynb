{
 "cells": [
  {
   "cell_type": "code",
   "execution_count": null,
   "id": "52e48358",
   "metadata": {},
   "outputs": [],
   "source": [
    "# Task 1.1\n",
    "i=0\n",
    "while i<=5:\n",
    " print(\"🔥\"*i)\n",
    " i=i+1"
   ]
  },
  {
   "cell_type": "code",
   "execution_count": null,
   "id": "d5842496",
   "metadata": {},
   "outputs": [],
   "source": [
    "# Task1.2(for loop)\n",
    "for i in range(1,6):\n",
    "    print(\"🔥\"*i)"
   ]
  },
  {
   "cell_type": "code",
   "execution_count": null,
   "id": "911dfe98",
   "metadata": {},
   "outputs": [],
   "source": [
    "# Task 1.3\n",
    "value=int(input(\"Please tell the no of rows?\"))\n",
    "row=input(\"Please tell the pattern?:\")\n",
    "\n",
    "for i in range(0,value+1):\n",
    " print(f\"{row*i}\")"
   ]
  },
  {
   "cell_type": "code",
   "execution_count": null,
   "id": "cc99bf32",
   "metadata": {},
   "outputs": [],
   "source": [
    "# Task 1.4\n",
    "\n",
    "while True:\n",
    "    value=int(input(\"Please tell the no of rows?\"))\n",
    "    row=input(\"Please tell the pattern?:\")\n",
    "    for i in range(0,value+1):\n",
    "     print(f\"{row*i}\")\n",
    "    condition =input(\"Do you want to try again? (Y/N):\").strip().upper()\n",
    "    if condition == 'Y':\n",
    "     continue\n",
    "    else:\n",
    "      break\n",
    "\n",
    "\n",
    "\n"
   ]
  },
  {
   "cell_type": "markdown",
   "id": "167327de",
   "metadata": {},
   "source": [
    "# Task 2.1\n",
    "Print each number in separate line with index\n",
    "\n",
    "marks = [80, 90, 100, 60, 85]"
   ]
  },
  {
   "cell_type": "code",
   "execution_count": null,
   "id": "03df1cb3",
   "metadata": {},
   "outputs": [],
   "source": [
    "marks = [80, 90, 100, 60, 85]\n",
    "for mark in marks:\n",
    "    print(f\"value: {mark}\")"
   ]
  },
  {
   "cell_type": "markdown",
   "id": "46e96707",
   "metadata": {},
   "source": [
    "\n",
    "Task 2.2\n",
    "Find the letters in each characters name and stored in a new list\n",
    "\n",
    "avengers = [\n",
    "    \"Hulk\",\n",
    "    \"Iron man\",\n",
    "    \"Black widow\",\n",
    "    \"Captain america\",\n",
    "    \"Spider man\",\n",
    "    \"Thor\",\n",
    "]"
   ]
  },
  {
   "cell_type": "code",
   "execution_count": null,
   "id": "7987bbdd",
   "metadata": {},
   "outputs": [],
   "source": [
    "avengers = [\n",
    "    \"Hulk\",\n",
    "    \"Iron man\",\n",
    "    \"Black widow\",\n",
    "    \"Captain america\",\n",
    "    \"Spider man\",\n",
    "    \"Thor\",\n",
    "]\n",
    "result=[]\n",
    "for avenger in avengers:\n",
    "  result.append(len(avenger))\n",
    "print(result)"
   ]
  },
  {
   "cell_type": "markdown",
   "id": "7a5f3fe3",
   "metadata": {},
   "source": [
    "\n",
    "# Task 2.3\n",
    "Find longer names more the 10 letters name and stored in a new list\n",
    "\n",
    "Output\n",
    "[\"Black widow\", \"Captain america\"]"
   ]
  },
  {
   "cell_type": "code",
   "execution_count": null,
   "id": "c42f1d63",
   "metadata": {},
   "outputs": [],
   "source": [
    "result=[]\n",
    "for avenger in avengers:\n",
    "  if len(avenger)>10:\n",
    "   result.append((avenger))\n",
    "print(result)\n",
    "\n",
    "\n",
    " \n"
   ]
  },
  {
   "cell_type": "code",
   "execution_count": null,
   "id": "a43e68e5",
   "metadata": {},
   "outputs": [],
   "source": [
    "\n",
    "# Task 1.1 \n",
    "\n",
    "scrambled_message = \"world the save to time no is there\"\n",
    "reverce = scrambled_message.split(\" \")[::-1]\n",
    "print(\" \".join(reverce))\n"
   ]
  },
  {
   "cell_type": "code",
   "execution_count": null,
   "id": "214a7b37",
   "metadata": {},
   "outputs": [],
   "source": [
    "playlist = \"🎵Dancing Queen;🎸Sweet Child O' Mine;🎹Piano Man;🎤Bohemian Rhapsody;🎺All That Jazz\"\n",
    "\n",
    "seprate = playlist.split(\";\")\n",
    "print(\"My favorite playlist:\")\n",
    "for i in range(len(seprate)):\n",
    "    print(f\"{i+1}.{seprate[i]}\")"
   ]
  },
  {
   "cell_type": "code",
   "execution_count": null,
   "id": "11f02af5",
   "metadata": {},
   "outputs": [],
   "source": [
    "\n",
    "## Task 1.1 (Without Unpacking)\n",
    "\n",
    "points = [(3, 4), (6, 12) , (10, 13)]\n",
    "value =[]\n",
    "for point in points:\n",
    "    formula =(point[0]**2+point[1]**2)**0.5\n",
    "    value.append(formula)\n",
    "print(value)"
   ]
  },
  {
   "cell_type": "code",
   "execution_count": 38,
   "id": "b57e5e88",
   "metadata": {},
   "outputs": [
    {
     "name": "stdout",
     "output_type": "stream",
     "text": [
      "['Infinite Jest', 'The Catcher in the Rye', 'Sapiens', 'A Brief History of Time', 'Clean Code']\n"
     ]
    }
   ],
   "source": [
    "books = [\n",
    "    {\"title\": \"Infinite Jest\", \"rating\": 4.5, \"genre\": \"Fiction\"},\n",
    "    {\"title\": \"The Catcher in the Rye\", \"rating\": 3.9, \"genre\": \"Fiction\"},\n",
    "    {\"title\": \"Sapiens\", \"rating\": 4.9, \"genre\": \"History\"},\n",
    "    {\"title\": \"A Brief History of Time\", \"rating\": 4.8, \"genre\": \"Science\"},\n",
    "    {\"title\": \"Clean Code\", \"rating\": 4.7, \"genre\": \"Technology\"},\n",
    "]\n",
    "total_book=[]\n",
    "\n",
    "for book in books:\n",
    "   total_book.append(book[\"title\"])\n",
    "\n",
    "print(total_book)"
   ]
  },
  {
   "cell_type": "code",
   "execution_count": 41,
   "id": "80e59713",
   "metadata": {},
   "outputs": [
    {
     "name": "stdout",
     "output_type": "stream",
     "text": [
      "['Infinite Jest', 'The Catcher in the Rye']\n"
     ]
    }
   ],
   "source": [
    "\n",
    "\n",
    "## Task 1.2\n",
    "# Please provide the only Fiction books\n",
    "fiction=[]\n",
    "for book in books:\n",
    "   if book[\"genre\"] == \"Fiction\":\n",
    "      fiction.append(f\"{book['title']}\")\n",
    "print(fiction)"
   ]
  },
  {
   "cell_type": "code",
   "execution_count": 53,
   "id": "1f6abb77",
   "metadata": {},
   "outputs": [
    {
     "name": "stdout",
     "output_type": "stream",
     "text": [
      "Highest rated books are: Sapiens, A Brief History of Time and Clean Code\n"
     ]
    }
   ],
   "source": [
    "# Task 1.3 (Challenging)\n",
    "# Please provide Highest rated books (>= 4.7)\n",
    "rating =[]\n",
    "for book in books:\n",
    "    if book[\"rating\"]>=4.7:\n",
    "        rating.append(book[\"title\"])\n",
    "print(f\"Highest rated books are: {\", \".join(rating[:-1])} and {rating[-1]}\")  \n",
    "    "
   ]
  },
  {
   "cell_type": "markdown",
   "id": "55d416b4",
   "metadata": {},
   "source": [
    "heroes = [\n",
    "{\n",
    "\"name\": \"Steve Rogers 🦸‍♂️\",\n",
    "\"age\": 100,\n",
    "\"height\": 185,\n",
    "\"address\": {\"city\": \"Brooklyn\", \"country\": \"US\"},\n",
    "},\n",
    "{\n",
    "\"name\": \"Peter Parker\",\n",
    "\"age\": 18,\n",
    "\"team_name\": \"Avengers\",\n",
    "\"team\": [\"Iron Man\", \"Thor\", \"Hulk\", \"Captain America\"],\n",
    "},\n",
    "{\n",
    "\"name\": \"Bruce Banner\",\n",
    "\"age\": 35,\n",
    "},\n",
    "]\n",
    "\n",
    "# Output\n",
    "\n",
    "# Steve Rogers 🦸‍♂️ lives in Brooklyn\n",
    "\n",
    "# Peter Parker location is Top Secret 🔒\n",
    "\n",
    "# Bruce Banner location is Top Secret 🔒\n"
   ]
  },
  {
   "cell_type": "code",
   "execution_count": 39,
   "id": "c5b45c8c",
   "metadata": {},
   "outputs": [
    {
     "name": "stdout",
     "output_type": "stream",
     "text": [
      "Steve Rogers 🦸‍♂️ Brooklyn\n",
      "Peter Parker location is Top Secret 🔒\n",
      "Bruce Banner location is Top Secret 🔒\n"
     ]
    }
   ],
   "source": [
    "heroes = [\n",
    "{\n",
    "\"name\": \"Steve Rogers 🦸‍♂️\",\n",
    "\"age\": 100,\n",
    "\"height\": 185,\n",
    "\"address\": {\"city\": \"Brooklyn\", \"country\": \"US\"},\n",
    "},\n",
    "{\n",
    "\"name\": \"Peter Parker\",\n",
    "\"age\": 18,\n",
    "\"team_name\": \"Avengers\",\n",
    "\"team\": [\"Iron Man\", \"Thor\", \"Hulk\", \"Captain America\"],\n",
    "},\n",
    "{\n",
    "\"name\": \"Bruce Banner\",\n",
    "\"age\": 35,\n",
    "},\n",
    "]\n",
    " \n",
    "for hero in heroes:\n",
    " print(f\"{hero[\"name\"]} {hero.get(\"address\",{}).get(\"city\",\"location is Top Secret 🔒\")}\") \n",
    "\n"
   ]
  },
  {
   "cell_type": "code",
   "execution_count": 40,
   "id": "d0d70640",
   "metadata": {},
   "outputs": [
    {
     "name": "stdout",
     "output_type": "stream",
     "text": [
      "[{'name': 'Chelo', 'experience': 2}, {'name': 'Diyali'}, {'name': 'Luvuyo'}, {'name': 'Jevan', 'experience': 1}]\n"
     ]
    }
   ],
   "source": [
    "\n",
    "# Task 1.2\n",
    "employees = [\n",
    "    {\"name\": \"Chelo\", \"experience\": 2},\n",
    "    {\n",
    "        \"name\": \"Diyali\",\n",
    "    },\n",
    "    {\n",
    "        \"name\": \"Luvuyo\",\n",
    "    },\n",
    "    {\"name\": \"Jevan\", \"experience\": 1},\n",
    "]\n",
    "# for employee in employees:\n",
    "#     if employee[\"experience\"]:\n",
    "#         print(f\"{(employee[\"experience\"])+1}\")\n",
    "    # else:\n",
    "    #     print(f\"{employee.get(\"experience\")+1}\")\n",
    "\n",
    "    \n",
    "print(employees)\n",
    "\n",
    "# Output\n",
    "# [{'name': 'Chelo', 'experience': 3},\n",
    "#  {'name': 'Diyali', 'experience': 1},\n",
    "#  {'name': 'Luvuyo', 'experience': 1},\n",
    "#  {'name': 'Jevan', 'experience': 2}]\n"
   ]
  },
  {
   "cell_type": "code",
   "execution_count": 41,
   "id": "2330c8cc",
   "metadata": {},
   "outputs": [],
   "source": [
    "tech_gadgets = {'📱 Smartphone', '💻 Laptop', '⌚ Smartwatch', '📱 Tablet', '📱 Tablet'}\n",
    "more_gadgets = ['🛸 Drone', '🤳 Selfie stick']\n"
   ]
  },
  {
   "cell_type": "code",
   "execution_count": 42,
   "id": "8ebdb5f2",
   "metadata": {},
   "outputs": [],
   "source": [
    "movies = [\n",
    "    {\n",
    "        \"title\": \"Inception\",\n",
    "        \"ratings\": [5, 4, 5, 4, 5]\n",
    "    },\n",
    "    {\n",
    "        \"title\": \"Interstellar\",\n",
    "        \"ratings\": [5, 5, 4, 5, 4]\n",
    "    },\n",
    "    {\n",
    "        \"title\": \"Dunkirk\",\n",
    "        \"ratings\": [4, 4, 4, 3, 4]\n",
    "    },\n",
    "    {\n",
    "        \"title\": \"The Dark Knight\",\n",
    "        \"ratings\": [5, 5, 5, 5, 5]\n",
    "    },\n",
    "    {\n",
    "        \"title\": \"Memento\",\n",
    "        \"ratings\": [4, 5, 4, 5, 4]\n",
    "    },\n",
    "]"
   ]
  },
  {
   "cell_type": "code",
   "execution_count": 43,
   "id": "cb99f54f",
   "metadata": {},
   "outputs": [
    {
     "name": "stdout",
     "output_type": "stream",
     "text": [
      "Inception\n",
      "Interstellar\n",
      "Dunkirk\n",
      "The Dark Knight\n",
      "Memento\n"
     ]
    }
   ],
   "source": [
    "def get_titles(movies):\n",
    "  for movie in movies:\n",
    "      print(movie[\"title\"])\n",
    "\n",
    "get_titles(movies)"
   ]
  },
  {
   "cell_type": "code",
   "execution_count": 44,
   "id": "bbfe6300",
   "metadata": {},
   "outputs": [
    {
     "name": "stdout",
     "output_type": "stream",
     "text": [
      "['Inception', 'Interstellar', 'Dunkirk', 'The Dark Knight', 'Memento']\n"
     ]
    }
   ],
   "source": [
    "def get_titles(movies):\n",
    "    movie_list=[movie[\"title\"] for movie in movies]\n",
    "    print(movie_list)\n",
    "get_titles(movies)"
   ]
  },
  {
   "cell_type": "code",
   "execution_count": 45,
   "id": "455411d7",
   "metadata": {},
   "outputs": [
    {
     "name": "stdout",
     "output_type": "stream",
     "text": [
      "[4.6, 4.6, 3.8, 5.0, 4.4]\n"
     ]
    }
   ],
   "source": [
    "def get_avgs(movies):\n",
    "    movie_rating = [(sum(rating[\"ratings\"]))/len(rating[\"ratings\"]) for rating in movies ]\n",
    "    print(movie_rating)\n",
    "   \n",
    "\n",
    "\n",
    "get_avgs(movies)"
   ]
  },
  {
   "cell_type": "code",
   "execution_count": 46,
   "id": "f5d5cfd7",
   "metadata": {},
   "outputs": [],
   "source": [
    "guests = [{\n",
    "    \"name\": \"Alice\",\n",
    "    \"age\": 25,\n",
    "    \"code\": \"VIP123\"\n",
    "}, {\n",
    "    \"name\": \"Bob\",\n",
    "    \"age\": 17,\n",
    "    \"code\": \"VIP123\"\n",
    "}, {\n",
    "    \"name\": \"Charlie\",\n",
    "    \"age\": 30,\n",
    "    \"code\": \"VIP123\"\n",
    "}, {\n",
    "    \"name\": \"Dave\",\n",
    "    \"age\": 22,\n",
    "    \"code\": \"GUEST\"\n",
    "}, {\n",
    "    \"name\": \"Eve\",\n",
    "    \"age\": 29,\n",
    "    \"code\": \"VIP123\"\n",
    "}]\n",
    "\n",
    "blacklist = [\"Dave\", \"Eve\"]\n",
    "\n",
    "PASS_CODE = \"VIP123\""
   ]
  },
  {
   "cell_type": "code",
   "execution_count": 47,
   "id": "eb5841aa",
   "metadata": {},
   "outputs": [
    {
     "name": "stdout",
     "output_type": "stream",
     "text": [
      "['Alice', 'Charlie']\n"
     ]
    }
   ],
   "source": [
    "def guest(guests):\n",
    " allowed=[]\n",
    " for guest in guests:\n",
    "  if guest[\"age\"]>=21 and guest[\"name\"] not in blacklist and  guest[\"code\"]==\"VIP123\":\n",
    "    allowed.append(guest[\"name\"])\n",
    "  else:\n",
    "   (\"Not allowed\")  \n",
    " print(allowed)\n",
    "guest(guests)     "
   ]
  },
  {
   "cell_type": "code",
   "execution_count": 48,
   "id": "5bbd2850",
   "metadata": {},
   "outputs": [
    {
     "ename": "SyntaxError",
     "evalue": "invalid syntax (601908388.py, line 3)",
     "output_type": "error",
     "traceback": [
      "  \u001b[36mCell\u001b[39m\u001b[36m \u001b[39m\u001b[32mIn[48]\u001b[39m\u001b[32m, line 3\u001b[39m\n\u001b[31m    \u001b[39m\u001b[31mallow = [allowed.append(guest[\"name\"]) for guest in guests if guest[\"age\"]>=21 and guest[\"name\"] not in blacklist and  guest[\"code\"]==\"VIP123\" else \"not allowed\"]\u001b[39m\n                                                                                                                                                   ^\n\u001b[31mSyntaxError\u001b[39m\u001b[31m:\u001b[39m invalid syntax\n"
     ]
    }
   ],
   "source": [
    "def guest(guests):\n",
    "    allow=[]\n",
    "    allow = [allowed.append(guest[\"name\"]) for guest in guests if guest[\"age\"]>=21 and guest[\"name\"] not in blacklist and  guest[\"code\"]==\"VIP123\" else \"not allowed\"]\n"
   ]
  },
  {
   "cell_type": "code",
   "execution_count": null,
   "id": "056e7ae7",
   "metadata": {},
   "outputs": [
    {
     "name": "stdout",
     "output_type": "stream",
     "text": [
      "<__main__.Car object at 0x0000015678EB97F0>\n",
      "V8\n",
      "Ferrari F8\n",
      "2\n"
     ]
    }
   ],
   "source": [
    "# Blueprint\n",
    "class Car:\n",
    "    # method -> init -> constructor\n",
    "    def __init__(self, wheels, engine, model, doors):\n",
    "        # self -> object\n",
    "        # instance variable\n",
    "        self.wheels = wheels\n",
    "        self.engine = engine\n",
    "        self.model  = model\n",
    "        self.door = doors\n",
    "\n",
    "ferari = Car(wheels=4, engine=\"V8\", model=\"Ferrari F8\", doors=2)\n",
    "rolls_roys=Car(wheels=4,engine=\"v8\",model=\"ghost\",door=4)\n",
    "print(ferari)\n",
    "print(ferari.engine)\n",
    "print(ferari.model)\n",
    "print(ferari.door)"
   ]
  },
  {
   "cell_type": "code",
   "execution_count": null,
   "id": "d14da331",
   "metadata": {},
   "outputs": [],
   "source": [
    "class Account:\n",
    "    def __init__(self,accN,name,balance):\n",
    "        self.accN=accN\n",
    "        self.name=name\n",
    "        self.balance=balance\n",
    "    def display_balance(self):\n",
    "        return print(f'Your balance is ₹{self.balance:,.2f}')\n",
    "    \n",
    "    def withdraw(self,amount):\n",
    "     if amount<0:\n",
    "      return print(f\"Invalid amount\")\n",
    "     elif amount>self.amount:\n",
    "      return print(f\"Insuffiient funds. Your balance is:{self.balance}\")\n",
    "     else:\n",
    "      return print(f\" Success. Your balance is: ₹{self.balance-amount}\")\n",
    "\n",
    "\n",
    "gobi=Account(accN=12345,name=\"gopi\",balance=100_00_000)\n",
    "viki=Account(accN=56789,name=\"viki\",balance=10_00_000)\n",
    "bala=Account(accN=23456,name=\"bala\",balance=50_00_000)\n",
    "\n",
    "\n",
    "\n"
   ]
  },
  {
   "cell_type": "code",
   "execution_count": null,
   "id": "adfd513b",
   "metadata": {},
   "outputs": [
    {
     "name": "stdout",
     "output_type": "stream",
     "text": [
      "12345\n",
      "gopi\n",
      "10000000\n"
     ]
    }
   ],
   "source": [
    "print(gobi.accN)\n",
    "print(gobi.name)\n",
    "print(gobi.balance)"
   ]
  },
  {
   "cell_type": "code",
   "execution_count": null,
   "id": "0d004ba4",
   "metadata": {},
   "outputs": [],
   "source": [
    "# 1. Encapsulation = Data + Logic = (Instance variable + Instance Methods)\n",
    "# Pascal Case\n",
    "class Account:\n",
    "    def __init__(self, account_number, name, balance):\n",
    "        # Instance variable\n",
    "        self.acc_no = account_number\n",
    "        self.name = name\n",
    "        self.balance = balance\n",
    "\n",
    "    # Task 1.1 -> Your balance is: ₹10,000,000.00\n",
    "    # Formatting\n",
    "    # Instance methods () -> Instance variable\n",
    "    def display_balance(self):\n",
    "        return f\"Your balance is: ₹{self.balance:,.2f}\"\n",
    "\n",
    "    # 2. Abstraction - Beautiful - Complexity Hidden\n",
    "    def withdraw(self, amount):\n",
    "        if amount <= 0:\n",
    "            return \"Invalid amount\"\n",
    "        elif amount > self.balance:\n",
    "            return f\"Insufficient funds. {self.display_balance()}\"\n",
    "        \n",
    "        self.balance = self.balance - amount\n",
    "        return f\"Success. {self.display_balance()}\"\n",
    "    \n",
    "    def deposit(self, amount):\n",
    "        if amount <= 0:\n",
    "            return \"Invalid amount\"\n",
    "        \n",
    "        self.balance = self.balance + amount\n",
    "        return f\"Success. {self.display_balance()}\"\n",
    "    \n",
    "    \n",
    "\n",
    "\n",
    "# Self -> Reference/Context variable\n",
    "gopi = Account(101, \"Gopika Hariharan\", 1_00_00_000)\n",
    "vikki = Account(102, \"Vignesh M\", 10_00_000)\n",
    "bala = Account(103, \"Bala Kumar\", 50_00_000)"
   ]
  },
  {
   "cell_type": "code",
   "execution_count": 93,
   "id": "146a3dce",
   "metadata": {},
   "outputs": [],
   "source": [
    "\n",
    "# 1. Encapsulation = Data + Logic = (Instance variable + Instance Methods)\n",
    "# Pascal Case\n",
    "class Account:\n",
    "    Interst=2\n",
    "    def __init__(self, account_number, name, balance):\n",
    "        # Instance variable\n",
    "        self.acc_no = account_number\n",
    "        self.name = name\n",
    "        self.balance = balance\n",
    "\n",
    "    # Task 1.1 -> Your balance is: ₹10,000,000.00\n",
    "    # Formatting\n",
    "    # Instance methods () -> Instance variable\n",
    "    def display_balance(self):\n",
    "        return f\"Your balance is: ₹{self.balance:,.2f}\"\n",
    "\n",
    "    # 2. Abstraction - Beautiful - Complexity Hidden\n",
    "    def withdraw(self, amount):\n",
    "        if amount <= 0:\n",
    "            return \"Invalid amount\"\n",
    "        elif amount > self.balance:\n",
    "            return f\"Insufficient funds. {self.display_balance()}\"\n",
    "        \n",
    "        self.balance = self.balance - amount\n",
    "        return f\"Success. {self.display_balance()}\"\n",
    "    \n",
    "    def deposit(self, amount):\n",
    "        if amount <= 0:\n",
    "            return \"Invalid amount\"\n",
    "        \n",
    "        self.balance = self.balance + amount\n",
    "        return f\"Success. {self.display_balance()}\"\n",
    "    \n",
    "    def apply_interest(self):\n",
    "        self.balance= self.balance+(self.balance*self.Interst)/100\n",
    "        return(f\"Sucess fully add. The curent Balance:{self.balance:,.2f}\")\n",
    "    def update_interest_rate(self,interst):\n",
    "        if interst>0:\n",
    "         self.balance += (self.balance*interst)/100\n",
    "         return f\"Success.Applied interest rate of {Account.interst:.2%}.{self.display_balance()}\"\n",
    "\n",
    "# Self -> Reference/Context variable\n",
    "gopi = Account(101, \"Gopika Hariharan\", 1_00_00_000)\n",
    "vikki = Account(102, \"Vignesh M\", 10_00_000)\n",
    "bala = Account(103, \"Bala Kumar\", 50_00_000)"
   ]
  },
  {
   "cell_type": "code",
   "execution_count": 94,
   "id": "88a0b5ea",
   "metadata": {},
   "outputs": [
    {
     "name": "stdout",
     "output_type": "stream",
     "text": [
      "Sucess fully add. The curent Balance:10,200,000.00\n",
      "Sucess fully add. The curent Balance:1,020,000.00\n",
      "Sucess fully add. The curent Balance:5,100,000.00\n"
     ]
    }
   ],
   "source": [
    "print(gopi.apply_interest())\n",
    "print(vikki.apply_interest())\n",
    "print(bala.apply_interest())\n",
    "\n"
   ]
  },
  {
   "cell_type": "code",
   "execution_count": 95,
   "id": "f8f4f4b8",
   "metadata": {},
   "outputs": [
    {
     "name": "stdout",
     "output_type": "stream",
     "text": [
      "Your balance is: ₹10,200,000.00\n",
      "Your balance is: ₹1,020,000.00\n",
      "Your balance is: ₹5,100,000.00\n"
     ]
    }
   ],
   "source": [
    "print(gopi.display_balance())\n",
    "print(vikki.display_balance())\n",
    "print(bala.display_balance())"
   ]
  },
  {
   "cell_type": "code",
   "execution_count": 100,
   "id": "e7d1d396",
   "metadata": {},
   "outputs": [
    {
     "name": "stdout",
     "output_type": "stream",
     "text": [
      "Account created Successfully\n",
      "Account created Successfully\n",
      "Account created Successfully\n",
      "Account created Successfully\n",
      "In total we have 4 accounts\n"
     ]
    }
   ],
   "source": [
    "\n",
    "# 1. Encapsulation = Data + Logic = (Instance variable + Instance Methods)\n",
    "# Pascal Case\n",
    "class Account:\n",
    "    # class variable \n",
    "    interest_rate = 0.02\n",
    "    no_of_accounts = 0\n",
    "    \n",
    "    def __init__(self, account_number, name, balance):\n",
    "        # Instance variable\n",
    "        self.acc_no = account_number\n",
    "        self.name = name\n",
    "        self.balance = balance\n",
    "        Account.update_no_of_accounts()\n",
    "        \n",
    "        \n",
    "    @classmethod    \n",
    "    def update_no_of_accounts(cls):\n",
    "        cls.no_of_accounts += 1\n",
    "        print(\"Account created Successfully\") \n",
    "\n",
    "    # Task 1.1 -> Your balance is: ₹10,000,000.00\n",
    "    # Formatting\n",
    "    # Instance method() -> Instance variable\n",
    "    def display_balance(self):\n",
    "        return f\"Your balance is: ₹{self.balance:,.2f}\"\n",
    "\n",
    "    # 2. Abstraction - Beautiful - Complexity Hidden\n",
    "    def withdraw(self, amount):\n",
    "        if amount <= 0:\n",
    "            return \"Invalid amount\"\n",
    "        elif amount > self.balance:\n",
    "            return f\"Insufficient funds. {self.display_balance()}\"\n",
    "        \n",
    "        self.balance -= amount\n",
    "        return f\"Success. {self.display_balance()}\"\n",
    "    \n",
    "    def deposit(self, amount):\n",
    "        if amount <= 0:\n",
    "            return \"Invalid amount\"\n",
    "        \n",
    "        self.balance += amount\n",
    "        return f\"Success. {self.display_balance()}\"\n",
    "    \n",
    "    def apply_interest(self):\n",
    "        self.balance += self.balance * Account.interest_rate\n",
    "        return f\"Success. Applied interest rate of {Account.interest_rate:.2%}. {self.display_balance()}\"\n",
    "    \n",
    "    @classmethod\n",
    "    def update_interest_rate(cls, new_interest_rate):\n",
    "        if(new_interest_rate > 100 or new_interest_rate < 0):\n",
    "            return \"Invalid Interest rate\"\n",
    "        \n",
    "        cls.interest_rate = new_interest_rate / 100\n",
    "        return f\"Success. Interest rate updated => {cls.interest_rate:.2%}\"  \n",
    "    \n",
    "    # @staticmethod\n",
    "    # def get_total_no_accounts():\n",
    "    #     return f\"In total we have {Account.no_of_accounts} accounts\"\n",
    "    \n",
    "    \n",
    "    @classmethod\n",
    "    def get_total_no_accounts(cls):\n",
    "        return f\"In total we have {cls.no_of_accounts} accounts\"\n",
    "\n",
    "\n",
    "# Self -> Reference/Context variable\n",
    "gopi = Account(101, \"Gopika Hariharan\", 1_00_00_000)\n",
    "vikki = Account(102, \"Vignesh M\", 10_00_000)\n",
    "bala = Account(103, \"Bala Kumar\", 50_00_000)\n",
    "bala2 = Account(104, \"Bala Kumar\", 50_00_000)\n",
    "\n",
    "print(Account.get_total_no_accounts()) "
   ]
  },
  {
   "cell_type": "code",
   "execution_count": 101,
   "id": "26a7179c",
   "metadata": {},
   "outputs": [],
   "source": [
    "class SavingsAccount(Account):\n",
    "    pass"
   ]
  }
 ],
 "metadata": {
  "kernelspec": {
   "display_name": "venv",
   "language": "python",
   "name": "python3"
  },
  "language_info": {
   "codemirror_mode": {
    "name": "ipython",
    "version": 3
   },
   "file_extension": ".py",
   "mimetype": "text/x-python",
   "name": "python",
   "nbconvert_exporter": "python",
   "pygments_lexer": "ipython3",
   "version": "3.13.5"
  }
 },
 "nbformat": 4,
 "nbformat_minor": 5
}
