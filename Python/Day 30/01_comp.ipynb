{
 "cells": [
  {
   "cell_type": "code",
   "execution_count": null,
   "id": "0c0afa8b",
   "metadata": {},
   "outputs": [],
   "source": [
    "restaurant_menus = [\n",
    "    {\"restaurant\": \"Italian Place\", \"menu\": {\"🍕\": 12.99, \"🍝\": 10.99, \"🥖\": 3.99, \"🥗\": 7.99}},\n",
    "    {\"restaurant\": \"Burger Joint\", \"menu\": {\"🍔\": 8.99, \"🍟\": 3.99, \"🥤\": 1.99, \"🍦\": 4.99}},\n",
    "    {\"restaurant\": \"Sushi Bar\", \"menu\": {\"🍣\": 15.99, \"🍜\": 12.99, \"🍙\": 6.99, \"🍶\": 9.99}},\n",
    "    {\"restaurant\": \"Health Spot\", \"menu\": {\"🥗\": 9.99, \"🥙\": 8.99, \"🥑\": 4.99, \"🥝\": 3.99}},\n",
    "]\n",
    "\n",
    "def get_affordable_items(restaurant_menus):\n",
    "    pass\n",
    "get_affordable_items(restaurant_menus)"
   ]
  },
  {
   "cell_type": "code",
   "execution_count": 8,
   "id": "a1663116",
   "metadata": {},
   "outputs": [],
   "source": [
    "\n",
    "\n",
    "employees = [\n",
    "    {\"id\": 101, \"name\": \"Alice\", \"age\": 30},\n",
    "    {\"id\": 102, \"name\": \"Bob\", \"age\": 25},\n",
    "    {\"id\": 103, \"name\": \"Charlie\", \"age\": 35}\n",
    "]"
   ]
  },
  {
   "cell_type": "code",
   "execution_count": null,
   "id": "d64c942c",
   "metadata": {},
   "outputs": [
    {
     "name": "stdout",
     "output_type": "stream",
     "text": [
      "{101: 30, 103: 35}\n"
     ]
    }
   ],
   "source": [
    "def emp (employees):\n",
    " list={}\n",
    " for employee in employees:\n",
    "     if employee[\"age\"]>28:\n",
    "      list[employee[\"id\"]] = employee[\"age\"]\n",
    " print(list)   \n",
    "emp(employees)"
   ]
  },
  {
   "cell_type": "code",
   "execution_count": 9,
   "id": "f898c0e0",
   "metadata": {},
   "outputs": [
    {
     "name": "stdout",
     "output_type": "stream",
     "text": [
      "{101: 30, 103: 35}\n"
     ]
    }
   ],
   "source": [
    "def emp(employees):\n",
    "    return {\n",
    "        employee[\"id\"]: employee[\"age\"]\n",
    "        for employee in employees\n",
    "        if employee[\"age\"] > 28\n",
    "    }\n",
    "print(emp(employees))"
   ]
  },
  {
   "cell_type": "markdown",
   "id": "c5bc9a1a",
   "metadata": {},
   "source": [
    "\n",
    "Task 1.2: Filtering Fruits by Price\n",
    "Given a dictionary of fruits with their prices, filter it to include only fruits priced above 2.\n",
    "\n",
    "Expected Output:\n",
    "\n",
    "{'banana': 2.5, 'orange': 3.0, 'kiwi': 4.0}"
   ]
  },
  {
   "cell_type": "code",
   "execution_count": null,
   "id": "0cc54db0",
   "metadata": {},
   "outputs": [
    {
     "data": {
      "text/plain": [
       "{'banana': 2.5, 'orange': 3.0, 'kiwi': 4.0}"
      ]
     },
     "execution_count": 23,
     "metadata": {},
     "output_type": "execute_result"
    }
   ],
   "source": [
    "fruits = {\"apple\": 1.2, \"banana\": 2.5, \"orange\": 3.0, \"kiwi\": 4.0}\n",
    "\n",
    "\n",
    "def list(fruits):\n",
    "    iteam = {}\n",
    "    for key, value in fruits.items():\n",
    "        if value > 2:\n",
    "            iteam[key] = value\n",
    "    return iteam\n",
    "\n",
    "\n",
    "list(fruits)\n"
   ]
  },
  {
   "cell_type": "code",
   "execution_count": 25,
   "id": "9e495320",
   "metadata": {},
   "outputs": [
    {
     "name": "stdout",
     "output_type": "stream",
     "text": [
      "Salary: 1,200,000 INR\n"
     ]
    }
   ],
   "source": [
    "salary =1200000\n",
    "\n",
    "print(f\"Salary: {salary:,} INR\")"
   ]
  }
 ],
 "metadata": {
  "kernelspec": {
   "display_name": "venv",
   "language": "python",
   "name": "python3"
  },
  "language_info": {
   "codemirror_mode": {
    "name": "ipython",
    "version": 3
   },
   "file_extension": ".py",
   "mimetype": "text/x-python",
   "name": "python",
   "nbconvert_exporter": "python",
   "pygments_lexer": "ipython3",
   "version": "3.13.5"
  }
 },
 "nbformat": 4,
 "nbformat_minor": 5
}
