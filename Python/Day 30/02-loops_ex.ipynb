{
 "cells": [
  {
   "cell_type": "code",
   "execution_count": 3,
   "id": "52e48358",
   "metadata": {},
   "outputs": [
    {
     "name": "stdout",
     "output_type": "stream",
     "text": [
      "\n",
      "🔥\n",
      "🔥🔥\n",
      "🔥🔥🔥\n",
      "🔥🔥🔥🔥\n",
      "🔥🔥🔥🔥🔥\n"
     ]
    }
   ],
   "source": [
    "# Task 1.1\n",
    "i=0\n",
    "while i<=5:\n",
    " print(\"🔥\"*i)\n",
    " i=i+1"
   ]
  },
  {
   "cell_type": "code",
   "execution_count": 4,
   "id": "d5842496",
   "metadata": {},
   "outputs": [
    {
     "name": "stdout",
     "output_type": "stream",
     "text": [
      "🔥\n",
      "🔥🔥\n",
      "🔥🔥🔥\n",
      "🔥🔥🔥🔥\n",
      "🔥🔥🔥🔥🔥\n"
     ]
    }
   ],
   "source": [
    "# Task1.2(for loop)\n",
    "for i in range(1,6):\n",
    "    print(\"🔥\"*i)"
   ]
  },
  {
   "cell_type": "code",
   "execution_count": 2,
   "id": "911dfe98",
   "metadata": {},
   "outputs": [
    {
     "name": "stdout",
     "output_type": "stream",
     "text": [
      "\n",
      "🍨\n",
      "🍨🍨\n",
      "🍨🍨🍨\n",
      "🍨🍨🍨🍨\n",
      "🍨🍨🍨🍨🍨\n"
     ]
    }
   ],
   "source": [
    "# Task 1.3\n",
    "value=int(input(\"Please tell the no of rows?\"))\n",
    "row=input(\"Please tell the pattern?:\")\n",
    "\n",
    "for i in range(0,value+1):\n",
    " print(f\"{row*i}\")"
   ]
  },
  {
   "cell_type": "code",
   "execution_count": 4,
   "id": "cc99bf32",
   "metadata": {},
   "outputs": [
    {
     "name": "stdout",
     "output_type": "stream",
     "text": [
      "\n",
      "🖐️\n",
      "🖐️🖐️\n",
      "🖐️🖐️🖐️\n",
      "🖐️🖐️🖐️🖐️\n"
     ]
    }
   ],
   "source": [
    "# Task 1.4\n",
    "\n",
    "while True:\n",
    "    value=int(input(\"Please tell the no of rows?\"))\n",
    "    row=input(\"Please tell the pattern?:\")\n",
    "    for i in range(0,value+1):\n",
    "     print(f\"{row*i}\")\n",
    "    condition =input(\"Do you want to try again? (Y/N):\").strip().upper()\n",
    "    if condition == 'Y':\n",
    "     continue\n",
    "    else:\n",
    "      break\n",
    "\n",
    "\n",
    "\n"
   ]
  }
 ],
 "metadata": {
  "kernelspec": {
   "display_name": "venv",
   "language": "python",
   "name": "python3"
  },
  "language_info": {
   "codemirror_mode": {
    "name": "ipython",
    "version": 3
   },
   "file_extension": ".py",
   "mimetype": "text/x-python",
   "name": "python",
   "nbconvert_exporter": "python",
   "pygments_lexer": "ipython3",
   "version": "3.13.5"
  }
 },
 "nbformat": 4,
 "nbformat_minor": 5
}
