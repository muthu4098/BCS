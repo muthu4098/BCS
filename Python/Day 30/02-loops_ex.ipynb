{
 "cells": [
  {
   "cell_type": "code",
   "execution_count": 3,
   "id": "52e48358",
   "metadata": {},
   "outputs": [
    {
     "name": "stdout",
     "output_type": "stream",
     "text": [
      "\n",
      "🔥\n",
      "🔥🔥\n",
      "🔥🔥🔥\n",
      "🔥🔥🔥🔥\n",
      "🔥🔥🔥🔥🔥\n"
     ]
    }
   ],
   "source": [
    "# Task 1.1\n",
    "i=0\n",
    "while i<=5:\n",
    " print(\"🔥\"*i)\n",
    " i=i+1"
   ]
  },
  {
   "cell_type": "code",
   "execution_count": 4,
   "id": "d5842496",
   "metadata": {},
   "outputs": [
    {
     "name": "stdout",
     "output_type": "stream",
     "text": [
      "🔥\n",
      "🔥🔥\n",
      "🔥🔥🔥\n",
      "🔥🔥🔥🔥\n",
      "🔥🔥🔥🔥🔥\n"
     ]
    }
   ],
   "source": [
    "# Task1.2(for loop)\n",
    "for i in range(1,6):\n",
    "    print(\"🔥\"*i)"
   ]
  },
  {
   "cell_type": "code",
   "execution_count": 2,
   "id": "911dfe98",
   "metadata": {},
   "outputs": [
    {
     "name": "stdout",
     "output_type": "stream",
     "text": [
      "\n",
      "🍨\n",
      "🍨🍨\n",
      "🍨🍨🍨\n",
      "🍨🍨🍨🍨\n",
      "🍨🍨🍨🍨🍨\n"
     ]
    }
   ],
   "source": [
    "# Task 1.3\n",
    "value=int(input(\"Please tell the no of rows?\"))\n",
    "row=input(\"Please tell the pattern?:\")\n",
    "\n",
    "for i in range(0,value+1):\n",
    " print(f\"{row*i}\")"
   ]
  },
  {
   "cell_type": "code",
   "execution_count": 4,
   "id": "cc99bf32",
   "metadata": {},
   "outputs": [
    {
     "name": "stdout",
     "output_type": "stream",
     "text": [
      "\n",
      "🖐️\n",
      "🖐️🖐️\n",
      "🖐️🖐️🖐️\n",
      "🖐️🖐️🖐️🖐️\n"
     ]
    }
   ],
   "source": [
    "# Task 1.4\n",
    "\n",
    "while True:\n",
    "    value=int(input(\"Please tell the no of rows?\"))\n",
    "    row=input(\"Please tell the pattern?:\")\n",
    "    for i in range(0,value+1):\n",
    "     print(f\"{row*i}\")\n",
    "    condition =input(\"Do you want to try again? (Y/N):\").strip().upper()\n",
    "    if condition == 'Y':\n",
    "     continue\n",
    "    else:\n",
    "      break\n",
    "\n",
    "\n",
    "\n"
   ]
  },
  {
   "cell_type": "markdown",
   "id": "167327de",
   "metadata": {},
   "source": [
    "# Task 2.1\n",
    "Print each number in separate line with index\n",
    "\n",
    "marks = [80, 90, 100, 60, 85]"
   ]
  },
  {
   "cell_type": "code",
   "execution_count": 5,
   "id": "03df1cb3",
   "metadata": {},
   "outputs": [
    {
     "name": "stdout",
     "output_type": "stream",
     "text": [
      "value: 80\n",
      "value: 90\n",
      "value: 100\n",
      "value: 60\n",
      "value: 85\n"
     ]
    }
   ],
   "source": [
    "marks = [80, 90, 100, 60, 85]\n",
    "for mark in marks:\n",
    "    print(f\"value: {mark}\")"
   ]
  },
  {
   "cell_type": "markdown",
   "id": "46e96707",
   "metadata": {},
   "source": [
    "\n",
    "Task 2.2\n",
    "Find the letters in each characters name and stored in a new list\n",
    "\n",
    "avengers = [\n",
    "    \"Hulk\",\n",
    "    \"Iron man\",\n",
    "    \"Black widow\",\n",
    "    \"Captain america\",\n",
    "    \"Spider man\",\n",
    "    \"Thor\",\n",
    "]"
   ]
  },
  {
   "cell_type": "code",
   "execution_count": 9,
   "id": "7987bbdd",
   "metadata": {},
   "outputs": [
    {
     "name": "stdout",
     "output_type": "stream",
     "text": [
      "[4, 8, 11, 15, 10, 4]\n"
     ]
    }
   ],
   "source": [
    "avengers = [\n",
    "    \"Hulk\",\n",
    "    \"Iron man\",\n",
    "    \"Black widow\",\n",
    "    \"Captain america\",\n",
    "    \"Spider man\",\n",
    "    \"Thor\",\n",
    "]\n",
    "result=[]\n",
    "for avenger in avengers:\n",
    "  result.append(len(avenger))\n",
    "print(result)"
   ]
  },
  {
   "cell_type": "markdown",
   "id": "7a5f3fe3",
   "metadata": {},
   "source": [
    "\n",
    "# Task 2.3\n",
    "Find longer names more the 10 letters name and stored in a new list\n",
    "\n",
    "Output\n",
    "[\"Black widow\", \"Captain america\"]"
   ]
  },
  {
   "cell_type": "code",
   "execution_count": 13,
   "id": "c42f1d63",
   "metadata": {},
   "outputs": [
    {
     "name": "stdout",
     "output_type": "stream",
     "text": [
      "['Black widow', 'Captain america']\n"
     ]
    }
   ],
   "source": [
    "result=[]\n",
    "for avenger in avengers:\n",
    "  if len(avenger)>10:\n",
    "   result.append((avenger))\n",
    "print(result)\n",
    "\n",
    "\n",
    " \n"
   ]
  }
 ],
 "metadata": {
  "kernelspec": {
   "display_name": "venv",
   "language": "python",
   "name": "python3"
  },
  "language_info": {
   "codemirror_mode": {
    "name": "ipython",
    "version": 3
   },
   "file_extension": ".py",
   "mimetype": "text/x-python",
   "name": "python",
   "nbconvert_exporter": "python",
   "pygments_lexer": "ipython3",
   "version": "3.13.5"
  }
 },
 "nbformat": 4,
 "nbformat_minor": 5
}
