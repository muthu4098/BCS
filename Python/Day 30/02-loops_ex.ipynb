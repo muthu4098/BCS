{
 "cells": [
  {
   "cell_type": "code",
   "execution_count": null,
   "id": "52e48358",
   "metadata": {},
   "outputs": [],
   "source": [
    "# Task 1.1\n",
    "i=0\n",
    "while i<=5:\n",
    " print(\"🔥\"*i)\n",
    " i=i+1"
   ]
  },
  {
   "cell_type": "code",
   "execution_count": null,
   "id": "d5842496",
   "metadata": {},
   "outputs": [],
   "source": [
    "# Task1.2(for loop)\n",
    "for i in range(1,6):\n",
    "    print(\"🔥\"*i)"
   ]
  },
  {
   "cell_type": "code",
   "execution_count": null,
   "id": "911dfe98",
   "metadata": {},
   "outputs": [],
   "source": [
    "# Task 1.3\n",
    "value=int(input(\"Please tell the no of rows?\"))\n",
    "row=input(\"Please tell the pattern?:\")\n",
    "\n",
    "for i in range(0,value+1):\n",
    " print(f\"{row*i}\")"
   ]
  },
  {
   "cell_type": "code",
   "execution_count": null,
   "id": "cc99bf32",
   "metadata": {},
   "outputs": [],
   "source": [
    "# Task 1.4\n",
    "\n",
    "while True:\n",
    "    value=int(input(\"Please tell the no of rows?\"))\n",
    "    row=input(\"Please tell the pattern?:\")\n",
    "    for i in range(0,value+1):\n",
    "     print(f\"{row*i}\")\n",
    "    condition =input(\"Do you want to try again? (Y/N):\").strip().upper()\n",
    "    if condition == 'Y':\n",
    "     continue\n",
    "    else:\n",
    "      break\n",
    "\n",
    "\n",
    "\n"
   ]
  },
  {
   "cell_type": "markdown",
   "id": "167327de",
   "metadata": {},
   "source": [
    "# Task 2.1\n",
    "Print each number in separate line with index\n",
    "\n",
    "marks = [80, 90, 100, 60, 85]"
   ]
  },
  {
   "cell_type": "code",
   "execution_count": null,
   "id": "03df1cb3",
   "metadata": {},
   "outputs": [],
   "source": [
    "marks = [80, 90, 100, 60, 85]\n",
    "for mark in marks:\n",
    "    print(f\"value: {mark}\")"
   ]
  },
  {
   "cell_type": "markdown",
   "id": "46e96707",
   "metadata": {},
   "source": [
    "\n",
    "Task 2.2\n",
    "Find the letters in each characters name and stored in a new list\n",
    "\n",
    "avengers = [\n",
    "    \"Hulk\",\n",
    "    \"Iron man\",\n",
    "    \"Black widow\",\n",
    "    \"Captain america\",\n",
    "    \"Spider man\",\n",
    "    \"Thor\",\n",
    "]"
   ]
  },
  {
   "cell_type": "code",
   "execution_count": null,
   "id": "7987bbdd",
   "metadata": {},
   "outputs": [],
   "source": [
    "avengers = [\n",
    "    \"Hulk\",\n",
    "    \"Iron man\",\n",
    "    \"Black widow\",\n",
    "    \"Captain america\",\n",
    "    \"Spider man\",\n",
    "    \"Thor\",\n",
    "]\n",
    "result=[]\n",
    "for avenger in avengers:\n",
    "  result.append(len(avenger))\n",
    "print(result)"
   ]
  },
  {
   "cell_type": "markdown",
   "id": "7a5f3fe3",
   "metadata": {},
   "source": [
    "\n",
    "# Task 2.3\n",
    "Find longer names more the 10 letters name and stored in a new list\n",
    "\n",
    "Output\n",
    "[\"Black widow\", \"Captain america\"]"
   ]
  },
  {
   "cell_type": "code",
   "execution_count": null,
   "id": "c42f1d63",
   "metadata": {},
   "outputs": [],
   "source": [
    "result=[]\n",
    "for avenger in avengers:\n",
    "  if len(avenger)>10:\n",
    "   result.append((avenger))\n",
    "print(result)\n",
    "\n",
    "\n",
    " \n"
   ]
  },
  {
   "cell_type": "code",
   "execution_count": null,
   "id": "a43e68e5",
   "metadata": {},
   "outputs": [],
   "source": [
    "\n",
    "# Task 1.1 \n",
    "\n",
    "scrambled_message = \"world the save to time no is there\"\n",
    "reverce = scrambled_message.split(\" \")[::-1]\n",
    "print(\" \".join(reverce))\n"
   ]
  },
  {
   "cell_type": "code",
   "execution_count": null,
   "id": "214a7b37",
   "metadata": {},
   "outputs": [],
   "source": [
    "playlist = \"🎵Dancing Queen;🎸Sweet Child O' Mine;🎹Piano Man;🎤Bohemian Rhapsody;🎺All That Jazz\"\n",
    "\n",
    "seprate = playlist.split(\";\")\n",
    "print(\"My favorite playlist:\")\n",
    "for i in range(len(seprate)):\n",
    "    print(f\"{i+1}.{seprate[i]}\")"
   ]
  },
  {
   "cell_type": "code",
   "execution_count": null,
   "id": "11f02af5",
   "metadata": {},
   "outputs": [],
   "source": [
    "\n",
    "## Task 1.1 (Without Unpacking)\n",
    "\n",
    "points = [(3, 4), (6, 12) , (10, 13)]\n",
    "value =[]\n",
    "for point in points:\n",
    "    formula =(point[0]**2+point[1]**2)**0.5\n",
    "    value.append(formula)\n",
    "print(value)"
   ]
  }
 ],
 "metadata": {
  "kernelspec": {
   "display_name": "venv",
   "language": "python",
   "name": "python3"
  },
  "language_info": {
   "codemirror_mode": {
    "name": "ipython",
    "version": 3
   },
   "file_extension": ".py",
   "mimetype": "text/x-python",
   "name": "python",
   "nbconvert_exporter": "python",
   "pygments_lexer": "ipython3",
   "version": "3.13.5"
  }
 },
 "nbformat": 4,
 "nbformat_minor": 5
}
